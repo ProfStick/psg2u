{
 "cells": [
  {
   "cell_type": "markdown",
   "metadata": {},
   "source": [
    "# <img src=\"../media/prof_stick_logo.png\" width=\"80\"> Prof Stick's\n",
    "\n",
    "# $\\tiny{mostly\\ good}$ Physic's $\\LaTeX$ Cookbook\n",
    "\n",
    "## A $\\LaTeX$ cookbook for the NSW Stage 6 Physics Course\n",
    "\n"
   ]
  },
  {
   "cell_type": "markdown",
   "metadata": {},
   "source": [
    "### Motion, forces and gravity\n",
    "\n",
    "Equation &emsp; &emsp; &emsp; &emsp; &emsp; &emsp; &emsp; &emsp; &emsp; &emsp; &emsp; | Latex &emsp; &emsp; &emsp; &emsp; &emsp; &emsp; &emsp; &emsp; &emsp; &emsp; \n",
    ":-- | :-- \n",
    "$s = ut + \\frac{1}{2} a t^2$ | s = ut + \\frac{1}{2} a t^2 \n",
    "$v = u + at$ | v = u + at \n",
    "$v^2 = u^2 + 2as$ | v^2 = u^2 + 2as\n",
    "${\\vec{F}}_{net} = m \\vec{a}$ | \\Delta U = mg \\Delta h\n",
    "$\\Delta U = mg \\Delta h$ | \\Delta U = mg \\Delta h\n",
    "$W = F_\\parallel s = F s \\cos \\theta$ | W = F_\\parallel s = F s \\cos \\theta\n",
    "$P = \\frac{\\Delta E}{\\Delta t}$ | P = \\frac{\\Delta E}{\\Delta t}\n",
    "$K = \\frac{1}{2} m v^2$ | K = \\frac{1}{2} m v^2\n",
    "$\\sum \\frac{1}{2} m v^2_{before} = \\sum \\frac{1}{2} m v^2_{after}$ | \\sum \\frac{1}{2} m v^2_{before} = \\sum \\frac{1}{2} m v^2_{after}\n",
    "$\\sum m \\vec{v}_{before} = \\sum m \\vec{v}_{after}$ | \\sum m \\vec{v}\\_{before} = \\sum m \\vec{v}\\_{after}\n",
    "$\\Delta \\vec{p} = {\\vec{F}}_{net} \\Delta t$ | \\Delta \\vec{p} = {\\vec{F}}\\_{net} \\Delta t \n",
    "$a_c = \\frac{v^2}{r}$ | a_c = \\frac{v^2}{r}\n",
    "$\\omega = \\dfrac{\\Delta \\theta}{t}$ | \\omega = \\dfrac{\\Delta \\theta}{t}\n",
    "$F_c = \\dfrac{m v^2}{r}$ | F_c = \\dfrac{m v^2}{r}\n",
    "$\\tau = r_{\\perp} F = r F \\sin \\theta$ | \\tau = r_{\\perp} F = r F \\sin \\theta\n",
    "$v = \\dfrac{2 \\pi r}{T}$ | v = \\dfrac{2 \\pi r}{T}\n",
    "$U = -\\dfrac{G M m}{r}$ | U = -\\dfrac{G M m}{r}\n",
    "$F = \\dfrac{G M m}{r^2}$ | F = \\dfrac{G M m}{r^2}\n",
    "$\\dfrac{r^3}{T^2} = \\dfrac{G M}{4 \\pi^2}$ | \\dfrac{r^3}{T^2} = \\dfrac{G M}{4 \\pi^2}"
   ]
  },
  {
   "cell_type": "markdown",
   "metadata": {},
   "source": [
    "### Waves and thermodynamics\n",
    "\n",
    "Equation &emsp; &emsp; &emsp; &emsp; &emsp; &emsp; &emsp; &emsp; &emsp; &emsp; &emsp; | Latex &emsp; &emsp; &emsp; &emsp; &emsp; &emsp; &emsp; &emsp; &emsp; &emsp; \n",
    ":-- | :-- \n",
    "$v = f \\lambda$ | v = f \\lambda\n",
    "$f = \\frac{1}{t}$ | f = \\frac{1}{t}\n",
    "$f_{beat}=$ &#124; $f_2 - f_1$ &#124; | f_{beat}= &#124; f_2 - f_1 &#124;\n",
    "$f' = f \\dfrac{(v_{wave} + v_{observer})}{(v_{wave} + v_{source})}$ | f' = f \\dfrac{(v_{wave} + v_{observer})}{(v_{wave} + v_{source})}\n",
    "$d \\sin \\theta = m \\lambda$ | d \\sin \\theta = m \\lambda\n",
    "$n_1 \\sin \\theta_1 = n_2 \\sin \\theta_2$ | n_1 \\sin \\theta_1 = n_2 \\sin \\theta_2\n",
    "$n_x = \\dfrac{c}{v_x}$ | n_x = \\dfrac{c}{v_x}\n",
    "$I = I_{max} \\cos^2 \\theta$ | I = I_{max} \\cos^2 \\theta\n",
    "$\\sin \\theta_c = \\dfrac{n_2}{n_1}$ | \\sin \\theta_c = \\dfrac{n_2}{n_1}\n",
    "$I_1 r^2_1 = I_2 r^2_2$ | I_1 r^2_1 = I_2 r^2_2\n",
    "$Q = m c \\Delta T$ | Q = m c \\Delta T\n",
    "$\\dfrac{Q}{t} = \\dfrac{k A \\Delta T}{d}$ | \\dfrac{Q}{t} = \\dfrac{k A \\Delta T}{d}"
   ]
  },
  {
   "cell_type": "code",
   "execution_count": null,
   "metadata": {},
   "outputs": [],
   "source": []
  }
 ],
 "metadata": {
  "kernelspec": {
   "display_name": "Python 3",
   "language": "python",
   "name": "python3"
  },
  "language_info": {
   "codemirror_mode": {
    "name": "ipython",
    "version": 3
   },
   "file_extension": ".py",
   "mimetype": "text/x-python",
   "name": "python",
   "nbconvert_exporter": "python",
   "pygments_lexer": "ipython3",
   "version": "3.7.6"
  }
 },
 "nbformat": 4,
 "nbformat_minor": 4
}
